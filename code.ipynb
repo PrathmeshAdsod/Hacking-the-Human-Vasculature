{
 "cells": [
  {
   "cell_type": "markdown",
   "id": "5393b55a",
   "metadata": {
    "papermill": {
     "duration": 0.007114,
     "end_time": "2023-07-28T05:06:17.272690",
     "exception": false,
     "start_time": "2023-07-28T05:06:17.265576",
     "status": "completed"
    },
    "tags": []
   },
   "source": [
    "### Goal in this competition is to locate microvasculature structures (blood vessels) within human kidney histology slides.\n",
    "\n",
    "**Data used in a competition or dataset is derived from* five *Whole Slide Images (WSI), which are large digital images typically used in medical imaging. These WSI images have been divided or split into smaller sections called \"tiles.\"**\n",
    "\n"
   ]
  },
  {
   "cell_type": "markdown",
   "id": "be0d011f",
   "metadata": {
    "papermill": {
     "duration": 0.006345,
     "end_time": "2023-07-28T05:06:17.285801",
     "exception": false,
     "start_time": "2023-07-28T05:06:17.279456",
     "status": "completed"
    },
    "tags": []
   },
   "source": [
    "### Importing modules"
   ]
  },
  {
   "cell_type": "code",
   "execution_count": 1,
   "id": "4605cf04",
   "metadata": {
    "execution": {
     "iopub.execute_input": "2023-07-28T05:06:17.301378Z",
     "iopub.status.busy": "2023-07-28T05:06:17.300329Z",
     "iopub.status.idle": "2023-07-28T05:06:17.315930Z",
     "shell.execute_reply": "2023-07-28T05:06:17.314592Z"
    },
    "papermill": {
     "duration": 0.027002,
     "end_time": "2023-07-28T05:06:17.319167",
     "exception": false,
     "start_time": "2023-07-28T05:06:17.292165",
     "status": "completed"
    },
    "tags": []
   },
   "outputs": [],
   "source": [
    "import warnings\n",
    "warnings.filterwarnings(\"ignore\")"
   ]
  },
  {
   "cell_type": "code",
   "execution_count": 2,
   "id": "c9937a4b",
   "metadata": {
    "execution": {
     "iopub.execute_input": "2023-07-28T05:06:17.333911Z",
     "iopub.status.busy": "2023-07-28T05:06:17.333482Z",
     "iopub.status.idle": "2023-07-28T05:06:19.163964Z",
     "shell.execute_reply": "2023-07-28T05:06:19.162425Z"
    },
    "papermill": {
     "duration": 1.841347,
     "end_time": "2023-07-28T05:06:19.167075",
     "exception": false,
     "start_time": "2023-07-28T05:06:17.325728",
     "status": "completed"
    },
    "tags": []
   },
   "outputs": [],
   "source": [
    "import pandas as pd\n",
    "import numpy as np\n",
    "import matplotlib.pyplot as plt\n",
    "import seaborn as sns\n",
    "import cv2 as cv\n",
    "import json\n",
    "import glob\n",
    "import PIL\n",
    "import IPython.display"
   ]
  },
  {
   "cell_type": "markdown",
   "id": "40bc255d",
   "metadata": {
    "papermill": {
     "duration": 0.005999,
     "end_time": "2023-07-28T05:06:19.179715",
     "exception": false,
     "start_time": "2023-07-28T05:06:19.173716",
     "status": "completed"
    },
    "tags": []
   },
   "source": [
    "### Importing datasets"
   ]
  },
  {
   "cell_type": "code",
   "execution_count": 3,
   "id": "ee477515",
   "metadata": {
    "execution": {
     "iopub.execute_input": "2023-07-28T05:06:19.194113Z",
     "iopub.status.busy": "2023-07-28T05:06:19.193723Z",
     "iopub.status.idle": "2023-07-28T05:06:19.363392Z",
     "shell.execute_reply": "2023-07-28T05:06:19.362281Z"
    },
    "papermill": {
     "duration": 0.180224,
     "end_time": "2023-07-28T05:06:19.366222",
     "exception": false,
     "start_time": "2023-07-28T05:06:19.185998",
     "status": "completed"
    },
    "tags": []
   },
   "outputs": [],
   "source": [
    "# We have images folder provide as Input in Kaggle Notebook itself\n",
    "# We don not need to customly import images one by one or download the whole dataset\n",
    "train_tiles = glob.glob('/kaggle/input/hubmap-hacking-the-human-vasculature/train/*.tif')\n",
    "\n",
    "train_tiles.sort()"
   ]
  },
  {
   "cell_type": "code",
   "execution_count": 4,
   "id": "90684c1a",
   "metadata": {
    "execution": {
     "iopub.execute_input": "2023-07-28T05:06:19.383359Z",
     "iopub.status.busy": "2023-07-28T05:06:19.382937Z",
     "iopub.status.idle": "2023-07-28T05:06:19.581843Z",
     "shell.execute_reply": "2023-07-28T05:06:19.580882Z"
    },
    "papermill": {
     "duration": 0.209908,
     "end_time": "2023-07-28T05:06:19.584531",
     "exception": false,
     "start_time": "2023-07-28T05:06:19.374623",
     "status": "completed"
    },
    "tags": []
   },
   "outputs": [
    {
     "data": {
      "text/plain": [
       "((512, 512, 3), (512, 512, 3), (512, 512, 3))"
      ]
     },
     "execution_count": 4,
     "metadata": {},
     "output_type": "execute_result"
    }
   ],
   "source": [
    "tile1, tile2, tile3 = plt.imread(train_tiles[708]),plt.imread(train_tiles[7]), plt.imread(train_tiles[7008])\n",
    "tile1.shape, tile2.shape, tile3.shape"
   ]
  },
  {
   "cell_type": "code",
   "execution_count": 5,
   "id": "86bc25b9",
   "metadata": {
    "execution": {
     "iopub.execute_input": "2023-07-28T05:06:19.600965Z",
     "iopub.status.busy": "2023-07-28T05:06:19.600252Z",
     "iopub.status.idle": "2023-07-28T05:06:24.497957Z",
     "shell.execute_reply": "2023-07-28T05:06:24.496743Z"
    },
    "papermill": {
     "duration": 4.909342,
     "end_time": "2023-07-28T05:06:24.500995",
     "exception": false,
     "start_time": "2023-07-28T05:06:19.591653",
     "status": "completed"
    },
    "tags": []
   },
   "outputs": [],
   "source": [
    "polygons = pd.read_json('/kaggle/input/hubmap-hacking-the-human-vasculature/polygons.jsonl', lines=True)"
   ]
  },
  {
   "cell_type": "code",
   "execution_count": 6,
   "id": "8e7b528c",
   "metadata": {
    "execution": {
     "iopub.execute_input": "2023-07-28T05:06:24.516255Z",
     "iopub.status.busy": "2023-07-28T05:06:24.515466Z",
     "iopub.status.idle": "2023-07-28T05:06:24.523391Z",
     "shell.execute_reply": "2023-07-28T05:06:24.521875Z"
    },
    "papermill": {
     "duration": 0.018435,
     "end_time": "2023-07-28T05:06:24.526046",
     "exception": false,
     "start_time": "2023-07-28T05:06:24.507611",
     "status": "completed"
    },
    "tags": []
   },
   "outputs": [],
   "source": [
    "co_ord_for_0006ff2aa7cd =  polygons.loc[0].annotations"
   ]
  },
  {
   "cell_type": "code",
   "execution_count": 7,
   "id": "f38ef526",
   "metadata": {
    "execution": {
     "iopub.execute_input": "2023-07-28T05:06:24.540785Z",
     "iopub.status.busy": "2023-07-28T05:06:24.540394Z",
     "iopub.status.idle": "2023-07-28T05:06:24.589606Z",
     "shell.execute_reply": "2023-07-28T05:06:24.588218Z"
    },
    "papermill": {
     "duration": 0.059846,
     "end_time": "2023-07-28T05:06:24.592367",
     "exception": false,
     "start_time": "2023-07-28T05:06:24.532521",
     "status": "completed"
    },
    "tags": []
   },
   "outputs": [],
   "source": [
    "image = cv.imread('/kaggle/input/hubmap-hacking-the-human-vasculature/train/0033bbc76b6b.tif')"
   ]
  },
  {
   "cell_type": "code",
   "execution_count": 8,
   "id": "b0a6b83a",
   "metadata": {
    "execution": {
     "iopub.execute_input": "2023-07-28T05:06:24.608671Z",
     "iopub.status.busy": "2023-07-28T05:06:24.607643Z",
     "iopub.status.idle": "2023-07-28T05:06:24.627786Z",
     "shell.execute_reply": "2023-07-28T05:06:24.626517Z"
    },
    "papermill": {
     "duration": 0.031825,
     "end_time": "2023-07-28T05:06:24.630800",
     "exception": false,
     "start_time": "2023-07-28T05:06:24.598975",
     "status": "completed"
    },
    "tags": []
   },
   "outputs": [],
   "source": [
    "grayscale_image = cv.cvtColor(image, cv.COLOR_BGR2GRAY)"
   ]
  },
  {
   "cell_type": "code",
   "execution_count": 9,
   "id": "05863254",
   "metadata": {
    "execution": {
     "iopub.execute_input": "2023-07-28T05:06:24.646032Z",
     "iopub.status.busy": "2023-07-28T05:06:24.645636Z",
     "iopub.status.idle": "2023-07-28T05:06:24.651145Z",
     "shell.execute_reply": "2023-07-28T05:06:24.649926Z"
    },
    "papermill": {
     "duration": 0.016842,
     "end_time": "2023-07-28T05:06:24.654123",
     "exception": false,
     "start_time": "2023-07-28T05:06:24.637281",
     "status": "completed"
    },
    "tags": []
   },
   "outputs": [],
   "source": [
    "grayscale_image = grayscale_image/255   # Converting in RANGE of 0 - 1\n",
    "grayscale_image = grayscale_image.astype(np.uint8)\n"
   ]
  },
  {
   "cell_type": "code",
   "execution_count": 10,
   "id": "5bfa4654",
   "metadata": {
    "execution": {
     "iopub.execute_input": "2023-07-28T05:06:24.670376Z",
     "iopub.status.busy": "2023-07-28T05:06:24.669453Z",
     "iopub.status.idle": "2023-07-28T05:06:24.678096Z",
     "shell.execute_reply": "2023-07-28T05:06:24.677131Z"
    },
    "papermill": {
     "duration": 0.019505,
     "end_time": "2023-07-28T05:06:24.680651",
     "exception": false,
     "start_time": "2023-07-28T05:06:24.661146",
     "status": "completed"
    },
    "tags": []
   },
   "outputs": [],
   "source": [
    "def masking(image) :\n",
    "    annot =  polygons.loc[4].annotations\n",
    "    masked_image = np.zeros_like(image)\n",
    "    \n",
    "    for index in range(0, len(annot)) :\n",
    "        if annot[index]['type'] == ('blood_vessel')   :\n",
    "\n",
    "            for ind in range(0, len(annot[index]['coordinates'][0])) :\n",
    "\n",
    "                x, y = annot[index]['coordinates'][0][ind][0], annot[index]['coordinates'][0][ind][1]\n",
    "                masked_image[x][y] = 1\n",
    "                \n",
    "    return masked_image\n",
    "    \n"
   ]
  },
  {
   "cell_type": "code",
   "execution_count": 11,
   "id": "d8a7ae9a",
   "metadata": {
    "execution": {
     "iopub.execute_input": "2023-07-28T05:06:24.695982Z",
     "iopub.status.busy": "2023-07-28T05:06:24.695564Z",
     "iopub.status.idle": "2023-07-28T05:06:24.703225Z",
     "shell.execute_reply": "2023-07-28T05:06:24.702389Z"
    },
    "papermill": {
     "duration": 0.018369,
     "end_time": "2023-07-28T05:06:24.705576",
     "exception": false,
     "start_time": "2023-07-28T05:06:24.687207",
     "status": "completed"
    },
    "tags": []
   },
   "outputs": [],
   "source": [
    "masked_image = masking(grayscale_image)"
   ]
  },
  {
   "cell_type": "markdown",
   "id": "b8c7dcac",
   "metadata": {
    "papermill": {
     "duration": 0.006098,
     "end_time": "2023-07-28T05:06:24.718599",
     "exception": false,
     "start_time": "2023-07-28T05:06:24.712501",
     "status": "completed"
    },
    "tags": []
   },
   "source": [
    "### We got boundaries by using polygon.jsonl, now us contours to fill those with one\n"
   ]
  },
  {
   "cell_type": "code",
   "execution_count": 12,
   "id": "da745e95",
   "metadata": {
    "execution": {
     "iopub.execute_input": "2023-07-28T05:06:24.734955Z",
     "iopub.status.busy": "2023-07-28T05:06:24.734548Z",
     "iopub.status.idle": "2023-07-28T05:06:24.753185Z",
     "shell.execute_reply": "2023-07-28T05:06:24.752020Z"
    },
    "papermill": {
     "duration": 0.029769,
     "end_time": "2023-07-28T05:06:24.755473",
     "exception": false,
     "start_time": "2023-07-28T05:06:24.725704",
     "status": "completed"
    },
    "tags": []
   },
   "outputs": [
    {
     "data": {
      "text/plain": [
       "array([[0, 0, 0, ..., 0, 0, 0],\n",
       "       [0, 0, 0, ..., 0, 0, 0],\n",
       "       [0, 0, 0, ..., 0, 0, 0],\n",
       "       ...,\n",
       "       [0, 0, 0, ..., 0, 0, 0],\n",
       "       [0, 0, 0, ..., 0, 0, 0],\n",
       "       [0, 0, 0, ..., 0, 0, 0]], dtype=uint8)"
      ]
     },
     "execution_count": 12,
     "metadata": {},
     "output_type": "execute_result"
    }
   ],
   "source": [
    "# Find the contours of the binary mask\n",
    "contours, _ = cv.findContours(masked_image, cv.RETR_EXTERNAL, cv.CHAIN_APPROX_SIMPLE)\n",
    "\n",
    "cv.drawContours(masked_image, contours, -1, 1, thickness=cv.FILLED)"
   ]
  },
  {
   "cell_type": "code",
   "execution_count": 13,
   "id": "46d28bf6",
   "metadata": {
    "execution": {
     "iopub.execute_input": "2023-07-28T05:06:24.771037Z",
     "iopub.status.busy": "2023-07-28T05:06:24.769937Z",
     "iopub.status.idle": "2023-07-28T05:06:25.117035Z",
     "shell.execute_reply": "2023-07-28T05:06:25.115996Z"
    },
    "papermill": {
     "duration": 0.357292,
     "end_time": "2023-07-28T05:06:25.119414",
     "exception": false,
     "start_time": "2023-07-28T05:06:24.762122",
     "status": "completed"
    },
    "tags": []
   },
   "outputs": [
    {
     "data": {
      "text/plain": [
       "<matplotlib.image.AxesImage at 0x78ed5db9c400>"
      ]
     },
     "execution_count": 13,
     "metadata": {},
     "output_type": "execute_result"
    },
    {
     "data": {
      "image/png": "[encoded data removed]",
      "text/plain": [
       "<Figure size 640x480 with 1 Axes>"
      ]
     },
     "metadata": {},
     "output_type": "display_data"
    }
   ],
   "source": [
    "plt.imshow(masked_image)"
   ]
  },
  {
   "cell_type": "code",
   "execution_count": null,
   "id": "fe5ea2a3",
   "metadata": {
    "papermill": {
     "duration": 0.006895,
     "end_time": "2023-07-28T05:06:25.134354",
     "exception": false,
     "start_time": "2023-07-28T05:06:25.127459",
     "status": "completed"
    },
    "tags": []
   },
   "outputs": [],
   "source": []
  },
  {
   "cell_type": "code",
   "execution_count": null,
   "id": "f1c0a6fc",
   "metadata": {
    "papermill": {
     "duration": 0.006707,
     "end_time": "2023-07-28T05:06:25.148186",
     "exception": false,
     "start_time": "2023-07-28T05:06:25.141479",
     "status": "completed"
    },
    "tags": []
   },
   "outputs": [],
   "source": []
  }
 ],
 "metadata": {
  "kernelspec": {
   "display_name": "Python 3",
   "language": "python",
   "name": "python3"
  },
  "language_info": {
   "codemirror_mode": {
    "name": "ipython",
    "version": 3
   },
   "file_extension": ".py",
   "mimetype": "text/x-python",
   "name": "python",
   "nbconvert_exporter": "python",
   "pygments_lexer": "ipython3",
   "version": "3.10.12"
  },
  "papermill": {
   "default_parameters": {},
   "duration": 21.874578,
   "end_time": "2023-07-28T05:06:26.782362",
   "environment_variables": {},
   "exception": null,
   "input_path": "__notebook__.ipynb",
   "output_path": "__notebook__.ipynb",
   "parameters": {},
   "start_time": "2023-07-28T05:06:04.907784",
   "version": "2.4.0"
  }
 },
 "nbformat": 4,
 "nbformat_minor": 5
}
